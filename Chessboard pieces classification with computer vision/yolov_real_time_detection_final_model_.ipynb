{
  "cells": [
    {
      "cell_type": "markdown",
      "metadata": {
        "id": "view-in-github",
        "colab_type": "text"
      },
      "source": [
        "<a href=\"https://colab.research.google.com/github/stephaneNiyonizigiye/ML-AI_models/blob/main/yolov_real_time_detection_final_model_.ipynb\" target=\"_parent\"><img src=\"https://colab.research.google.com/assets/colab-badge.svg\" alt=\"Open In Colab\"/></a>"
      ]
    },
    {
      "cell_type": "markdown",
      "metadata": {
        "id": "2KNBI197KCHR"
      },
      "source": [
        "this model is implement for chess piece recognition and image classifier\n",
        "\n",
        "Created and optmised for a computer vision on a physical chess board where a robotic arm will be used to make movements\n",
        "\n",
        "author: stephane Niyonizigiye"
      ]
    },
    {
      "cell_type": "markdown",
      "metadata": {
        "id": "PYYwfW0HKpA0"
      },
      "source": [
        "# Imports"
      ]
    },
    {
      "cell_type": "code",
      "execution_count": null,
      "metadata": {
        "id": "VpfRcJJ23-bc"
      },
      "outputs": [],
      "source": [
        "!pip install keras-tuner"
      ]
    },
    {
      "cell_type": "code",
      "execution_count": null,
      "metadata": {
        "id": "5zUdVPz2K0Qf"
      },
      "outputs": [],
      "source": [
        "from tensorflow.keras.preprocessing.image import ImageDataGenerator\n",
        "from tensorflow.keras.preprocessing import image\n",
        "import pandas as pd\n",
        "import tensorflow as tf\n",
        "from tensorflow.keras.models import Sequential\n",
        "from tensorflow.keras.layers import Conv2D, MaxPooling2D, Flatten, Dense, Dropout\n",
        "from sklearn.model_selection import GridSearchCV\n",
        "import keras_tuner as kt"
      ]
    },
    {
      "cell_type": "markdown",
      "metadata": {
        "id": "Aptx50MNK7Mn"
      },
      "source": [
        "# pré-traitement des données"
      ]
    },
    {
      "cell_type": "code",
      "execution_count": null,
      "metadata": {
        "colab": {
          "base_uri": "https://localhost:8080/"
        },
        "id": "9nRu8b_lLDRh",
        "outputId": "520119bf-0d7d-4e91-cc4d-bd9870f9a8d4"
      },
      "outputs": [
        {
          "name": "stdout",
          "output_type": "stream",
          "text": [
            "Dataset URL: https://www.kaggle.com/datasets/krithiik/chess-pieces\n",
            "License(s): Community Data License Agreement - Permissive - Version 1.0\n",
            "Downloading chess-pieces.zip to /content\n",
            " 87% 34.0M/39.2M [00:00<00:00, 125MB/s] \n",
            "100% 39.2M/39.2M [00:00<00:00, 114MB/s]\n"
          ]
        }
      ],
      "source": [
        "!kaggle datasets download krithiik/chess-pieces"
      ]
    },
    {
      "cell_type": "markdown",
      "metadata": {
        "id": "E62Swo1EMjvf"
      },
      "source": [
        "unzipping the dataset"
      ]
    },
    {
      "cell_type": "code",
      "execution_count": null,
      "metadata": {
        "id": "lpYnCfd9MhMM"
      },
      "outputs": [],
      "source": [
        "!unzip chess-pieces.zip -d chess-pieces"
      ]
    },
    {
      "cell_type": "markdown",
      "metadata": {
        "id": "96eEEmenN3pO"
      },
      "source": [
        "standarisation des données"
      ]
    },
    {
      "cell_type": "code",
      "execution_count": null,
      "metadata": {
        "colab": {
          "base_uri": "https://localhost:8080/"
        },
        "id": "snYIBgADN9im",
        "outputId": "9b5b38a9-6454-4d7a-8f64-001d46f9855f"
      },
      "outputs": [
        {
          "name": "stdout",
          "output_type": "stream",
          "text": [
            "Found 240 images belonging to 12 classes.\n",
            "Found 60 images belonging to 12 classes.\n"
          ]
        }
      ],
      "source": [
        "# Répertoire du dataset\n",
        "dataset_directory = \"/content/chess-pieces/all_resized_into_sub_folders_640\"\n",
        "\n",
        "# Préparation du générateur d'images avec des transformations pour augmenter les données d'entraînement\n",
        "datagen = ImageDataGenerator(\n",
        "    rescale=1./255,\n",
        "    rotation_range=20,\n",
        "    width_shift_range=0.2,\n",
        "    height_shift_range=0.2,\n",
        "    shear_range=0.2,\n",
        "    zoom_range=0.2,\n",
        "    horizontal_flip=True,\n",
        "    fill_mode='nearest',\n",
        "    validation_split=0.2\n",
        "    )\n",
        "\n",
        "# Chargement des données d'entraînement\n",
        "train_data = datagen.flow_from_directory(\n",
        "    dataset_directory,\n",
        "    target_size=(64, 64),\n",
        "    batch_size=32,\n",
        "    class_mode='categorical',\n",
        "    subset='training'\n",
        ")\n",
        "\n",
        "# Chargement des données de validation\n",
        "validation_data = datagen.flow_from_directory(\n",
        "    dataset_directory,\n",
        "    target_size=(64, 64),\n",
        "    batch_size=32,\n",
        "    class_mode='categorical',\n",
        "    subset='validation'\n",
        ")\n"
      ]
    },
    {
      "cell_type": "markdown",
      "metadata": {
        "id": "WC4Dx6U4K8JH"
      },
      "source": [
        "# Entrennement"
      ]
    },
    {
      "cell_type": "code",
      "execution_count": null,
      "metadata": {
        "colab": {
          "background_save": true,
          "base_uri": "https://localhost:8080/"
        },
        "id": "GcFiNvLrCtec",
        "outputId": "d3b76ca7-6b10-4ace-e77e-3d9d45ac1dc5"
      },
      "outputs": [
        {
          "name": "stdout",
          "output_type": "stream",
          "text": [
            "Trial 18 Complete [00h 04m 10s]\n",
            "val_accuracy: 0.21111111839612326\n",
            "\n",
            "Best val_accuracy So Far: 0.3055555621782939\n",
            "Total elapsed time: 01h 25m 43s\n",
            "\n",
            "Search: Running Trial #19\n",
            "\n",
            "Value             |Best Value So Far |Hyperparameter\n",
            "96                |32                |conv_1_filters\n",
            "256               |256               |conv_2_filters\n",
            "64                |256               |dense_units\n",
            "\n",
            "Epoch 1/10\n",
            "\u001b[1m8/8\u001b[0m \u001b[32m━━━━━━━━━━━━━━━━━━━━\u001b[0m\u001b[37m\u001b[0m \u001b[1m11s\u001b[0m 982ms/step - accuracy: 0.0693 - loss: 2.8041 - val_accuracy: 0.0500 - val_loss: 2.4854\n",
            "Epoch 2/10\n",
            "\u001b[1m8/8\u001b[0m \u001b[32m━━━━━━━━━━━━━━━━━━━━\u001b[0m\u001b[37m\u001b[0m \u001b[1m11s\u001b[0m 1s/step - accuracy: 0.0688 - loss: 2.4868 - val_accuracy: 0.0833 - val_loss: 2.4848\n",
            "Epoch 3/10\n",
            "\u001b[1m8/8\u001b[0m \u001b[32m━━━━━━━━━━━━━━━━━━━━\u001b[0m\u001b[37m\u001b[0m \u001b[1m10s\u001b[0m 1s/step - accuracy: 0.0855 - loss: 2.4850 - val_accuracy: 0.0833 - val_loss: 2.4849\n",
            "Epoch 4/10\n",
            "\u001b[1m8/8\u001b[0m \u001b[32m━━━━━━━━━━━━━━━━━━━━\u001b[0m\u001b[37m\u001b[0m \u001b[1m9s\u001b[0m 950ms/step - accuracy: 0.0700 - loss: 2.4849 - val_accuracy: 0.0833 - val_loss: 2.4845\n",
            "Epoch 5/10\n",
            "\u001b[1m8/8\u001b[0m \u001b[32m━━━━━━━━━━━━━━━━━━━━\u001b[0m\u001b[37m\u001b[0m \u001b[1m10s\u001b[0m 953ms/step - accuracy: 0.0922 - loss: 2.4852 - val_accuracy: 0.0833 - val_loss: 2.4838\n",
            "Epoch 6/10\n",
            "\u001b[1m8/8\u001b[0m \u001b[32m━━━━━━━━━━━━━━━━━━━━\u001b[0m\u001b[37m\u001b[0m \u001b[1m10s\u001b[0m 1s/step - accuracy: 0.0729 - loss: 2.4851 - val_accuracy: 0.0833 - val_loss: 2.4849\n",
            "Epoch 7/10\n",
            "\u001b[1m8/8\u001b[0m \u001b[32m━━━━━━━━━━━━━━━━━━━━\u001b[0m\u001b[37m\u001b[0m \u001b[1m10s\u001b[0m 1s/step - accuracy: 0.0955 - loss: 2.4847 - val_accuracy: 0.0833 - val_loss: 2.4849\n",
            "Epoch 8/10\n",
            "\u001b[1m8/8\u001b[0m \u001b[32m━━━━━━━━━━━━━━━━━━━━\u001b[0m\u001b[37m\u001b[0m \u001b[1m8s\u001b[0m 906ms/step - accuracy: 0.1118 - loss: 2.4849 - val_accuracy: 0.1167 - val_loss: 2.4849\n",
            "Epoch 9/10\n",
            "\u001b[1m8/8\u001b[0m \u001b[32m━━━━━━━━━━━━━━━━━━━━\u001b[0m\u001b[37m\u001b[0m \u001b[1m10s\u001b[0m 1s/step - accuracy: 0.0525 - loss: 2.4848 - val_accuracy: 0.1167 - val_loss: 2.4849\n",
            "Epoch 10/10\n",
            "\u001b[1m8/8\u001b[0m \u001b[32m━━━━━━━━━━━━━━━━━━━━\u001b[0m\u001b[37m\u001b[0m \u001b[1m10s\u001b[0m 1s/step - accuracy: 0.1109 - loss: 2.4849 - val_accuracy: 0.1167 - val_loss: 2.4847\n",
            "Epoch 1/10\n",
            "\u001b[1m8/8\u001b[0m \u001b[32m━━━━━━━━━━━━━━━━━━━━\u001b[0m\u001b[37m\u001b[0m \u001b[1m12s\u001b[0m 1s/step - accuracy: 0.0542 - loss: 2.9616 - val_accuracy: 0.0833 - val_loss: 2.4852\n",
            "Epoch 2/10\n",
            "\u001b[1m8/8\u001b[0m \u001b[32m━━━━━━━━━━━━━━━━━━━━\u001b[0m\u001b[37m\u001b[0m \u001b[1m8s\u001b[0m 895ms/step - accuracy: 0.0656 - loss: 2.4935 - val_accuracy: 0.0833 - val_loss: 2.4845\n",
            "Epoch 3/10\n",
            "\u001b[1m8/8\u001b[0m \u001b[32m━━━━━━━━━━━━━━━━━━━━\u001b[0m\u001b[37m\u001b[0m \u001b[1m10s\u001b[0m 1s/step - accuracy: 0.0529 - loss: 2.4855 - val_accuracy: 0.0833 - val_loss: 2.4844\n",
            "Epoch 4/10\n",
            "\u001b[1m8/8\u001b[0m \u001b[32m━━━━━━━━━━━━━━━━━━━━\u001b[0m\u001b[37m\u001b[0m \u001b[1m10s\u001b[0m 1s/step - accuracy: 0.1115 - loss: 2.4846 - val_accuracy: 0.0833 - val_loss: 2.4839\n",
            "Epoch 5/10\n",
            "\u001b[1m8/8\u001b[0m \u001b[32m━━━━━━━━━━━━━━━━━━━━\u001b[0m\u001b[37m\u001b[0m \u001b[1m8s\u001b[0m 896ms/step - accuracy: 0.0734 - loss: 2.4854 - val_accuracy: 0.0833 - val_loss: 2.4817\n",
            "Epoch 6/10\n",
            "\u001b[1m8/8\u001b[0m \u001b[32m━━━━━━━━━━━━━━━━━━━━\u001b[0m\u001b[37m\u001b[0m \u001b[1m10s\u001b[0m 967ms/step - accuracy: 0.0638 - loss: 2.4896 - val_accuracy: 0.0833 - val_loss: 2.4833\n",
            "Epoch 7/10\n",
            "\u001b[1m8/8\u001b[0m \u001b[32m━━━━━━━━━━━━━━━━━━━━\u001b[0m\u001b[37m\u001b[0m \u001b[1m10s\u001b[0m 1s/step - accuracy: 0.1166 - loss: 2.4773 - val_accuracy: 0.0833 - val_loss: 2.4804\n",
            "Epoch 8/10\n",
            "\u001b[1m8/8\u001b[0m \u001b[32m━━━━━━━━━━━━━━━━━━━━\u001b[0m\u001b[37m\u001b[0m \u001b[1m9s\u001b[0m 958ms/step - accuracy: 0.0535 - loss: 2.4784 - val_accuracy: 0.1000 - val_loss: 2.4805\n",
            "Epoch 9/10\n",
            "\u001b[1m8/8\u001b[0m \u001b[32m━━━━━━━━━━━━━━━━━━━━\u001b[0m\u001b[37m\u001b[0m \u001b[1m11s\u001b[0m 1s/step - accuracy: 0.1173 - loss: 2.4786 - val_accuracy: 0.1167 - val_loss: 2.4728\n",
            "Epoch 10/10\n",
            "\u001b[1m8/8\u001b[0m \u001b[32m━━━━━━━━━━━━━━━━━━━━\u001b[0m\u001b[37m\u001b[0m \u001b[1m10s\u001b[0m 1s/step - accuracy: 0.0821 - loss: 2.4719 - val_accuracy: 0.1667 - val_loss: 2.4516\n",
            "Epoch 1/10\n",
            "\u001b[1m8/8\u001b[0m \u001b[32m━━━━━━━━━━━━━━━━━━━━\u001b[0m\u001b[37m\u001b[0m \u001b[1m12s\u001b[0m 1s/step - accuracy: 0.0583 - loss: 3.3497 - val_accuracy: 0.0667 - val_loss: 2.4848\n",
            "Epoch 2/10\n",
            "\u001b[1m8/8\u001b[0m \u001b[32m━━━━━━━━━━━━━━━━━━━━\u001b[0m\u001b[37m\u001b[0m \u001b[1m10s\u001b[0m 1s/step - accuracy: 0.1084 - loss: 2.4873 - val_accuracy: 0.0833 - val_loss: 2.4848\n",
            "Epoch 3/10\n",
            "\u001b[1m8/8\u001b[0m \u001b[32m━━━━━━━━━━━━━━━━━━━━\u001b[0m\u001b[37m\u001b[0m \u001b[1m8s\u001b[0m 889ms/step - accuracy: 0.0532 - loss: 2.4850 - val_accuracy: 0.1000 - val_loss: 2.4845\n",
            "Epoch 4/10\n",
            "\u001b[1m8/8\u001b[0m \u001b[32m━━━━━━━━━━━━━━━━━━━━\u001b[0m\u001b[37m\u001b[0m \u001b[1m11s\u001b[0m 951ms/step - accuracy: 0.0698 - loss: 2.4850 - val_accuracy: 0.0833 - val_loss: 2.4847\n",
            "Epoch 5/10\n",
            "\u001b[1m8/8\u001b[0m \u001b[32m━━━━━━━━━━━━━━━━━━━━\u001b[0m\u001b[37m\u001b[0m \u001b[1m11s\u001b[0m 1s/step - accuracy: 0.1212 - loss: 2.4838 - val_accuracy: 0.0500 - val_loss: 2.4845\n",
            "Epoch 6/10\n",
            "\u001b[1m4/8\u001b[0m \u001b[32m━━━━━━━━━━\u001b[0m\u001b[37m━━━━━━━━━━\u001b[0m \u001b[1m2s\u001b[0m 700ms/step - accuracy: 0.1044 - loss: 2.4823"
          ]
        }
      ],
      "source": [
        "\n",
        "\n",
        "# Fonction pour construire le modèle avec des hyperparamètres variables\n",
        "def build_model(hp):\n",
        "    model = Sequential()\n",
        "\n",
        "    # 1ère couche de convolution + max pooling\n",
        "    model.add(Conv2D(\n",
        "        filters=hp.Int('conv_1_filters', min_value=32, max_value=128, step=32),  # Nombre de filtres variable\n",
        "        kernel_size=(3, 3),\n",
        "        activation='relu',\n",
        "        input_shape=(64, 64, 3)\n",
        "    ))\n",
        "    model.add(MaxPooling2D(pool_size=(2, 2)))\n",
        "\n",
        "    # 2ème couche de convolution + max pooling\n",
        "    model.add(Conv2D(\n",
        "        filters=hp.Int('conv_2_filters', min_value=64, max_value=256, step=64),  # Nombre de filtres variable\n",
        "        kernel_size=(3, 3),\n",
        "        activation='relu'\n",
        "    ))\n",
        "    model.add(MaxPooling2D(pool_size=(2, 2)))\n",
        "\n",
        "    # Couche de Flatten et Dense\n",
        "    model.add(Flatten())\n",
        "    model.add(Dense(\n",
        "        units=hp.Int('dense_units', min_value=64, max_value=256, step=64),  # Nombre de neurones variable\n",
        "        activation='relu'\n",
        "    ))\n",
        "    model.add(Dropout(0.5))  # Regularization\n",
        "    model.add(Dense(train_data.num_classes, activation='softmax'))\n",
        "\n",
        "    # Compilation du modèle\n",
        "    model.compile(\n",
        "        optimizer='adam',\n",
        "        loss='categorical_crossentropy',\n",
        "        metrics=['accuracy']\n",
        "    )\n",
        "\n",
        "    return model\n",
        "\n",
        "# Initialisation de l'objet de recherche d'hyperparamètres\n",
        "tuner = kt.RandomSearch(\n",
        "    build_model,\n",
        "    objective='val_accuracy',\n",
        "    max_trials=30,  # Nombre d'architectures à tester\n",
        "    executions_per_trial=3,  # Nombre de fois que chaque modèle est exécuté\n",
        "    directory='my_dir',\n",
        "    project_name='cnn_tuning'\n",
        ")\n",
        "\n",
        "# Recherche des meilleurs hyperparamètres\n",
        "tuner.search(train_data, epochs=10, validation_data=validation_data)\n",
        "\n",
        "# Récupération des meilleurs hyperparamètres\n",
        "best_hps = tuner.get_best_hyperparameters(num_trials=1)[0]\n",
        "print(f\"Meilleurs hyperparamètres : {best_hps.values}\")\n",
        "\n"
      ]
    },
    {
      "cell_type": "markdown",
      "metadata": {
        "id": "21fijjScXdeu"
      },
      "source": [
        "construction du model CNN"
      ]
    },
    {
      "cell_type": "code",
      "execution_count": null,
      "metadata": {
        "colab": {
          "base_uri": "https://localhost:8080/"
        },
        "id": "bq7o-kuYXa-I",
        "outputId": "392c4136-b9ec-4382-a604-6489bfc82f60"
      },
      "outputs": [
        {
          "name": "stderr",
          "output_type": "stream",
          "text": [
            "/usr/local/lib/python3.10/dist-packages/keras/src/layers/convolutional/base_conv.py:107: UserWarning: Do not pass an `input_shape`/`input_dim` argument to a layer. When using Sequential models, prefer using an `Input(shape)` object as the first layer in the model instead.\n",
            "  super().__init__(activity_regularizer=activity_regularizer, **kwargs)\n"
          ]
        }
      ],
      "source": [
        "# Construction du modèle\n",
        "model = Sequential()\n",
        "\n",
        "# 1ère couche de convolution + max pooling\n",
        "model.add(Conv2D(32, (3, 3), activation='relu', input_shape=(64, 64, 3)))\n",
        "model.add(MaxPooling2D(pool_size=(2, 2)))\n",
        "\n",
        "# 2ème couche de convolution + max pooling\n",
        "model.add(Conv2D(64, (3, 3), activation='relu'))\n",
        "model.add(MaxPooling2D(pool_size=(2, 2)))\n",
        "\n",
        "# 3ème couche de convolution + max pooling\n",
        "model.add(Conv2D(128, (3, 3), activation='relu'))\n",
        "model.add(MaxPooling2D(pool_size=(2, 2)))\n",
        "\n",
        "# Couchage du réseau (Flatten) et ajout des couches denses\n",
        "model.add(Flatten())\n",
        "model.add(Dense(128, activation='relu'))\n",
        "model.add(Dropout(0.5))  # Regularization\n",
        "model.add(Dense(train_data.num_classes, activation='softmax'))  # 'num_classes' correspond au nombre de classes\n",
        "\n",
        "# Compilation du modèle\n",
        "model.compile(optimizer='adam', loss='categorical_crossentropy', metrics=['accuracy'])\n"
      ]
    },
    {
      "cell_type": "markdown",
      "metadata": {
        "id": "-AiVmw6iXhyW"
      },
      "source": [
        "entrainnement du model"
      ]
    },
    {
      "cell_type": "code",
      "execution_count": null,
      "metadata": {
        "colab": {
          "base_uri": "https://localhost:8080/"
        },
        "id": "JqjgADnbXp77",
        "outputId": "429fbd23-da39-4db9-e16c-19d5cf97fd5d"
      },
      "outputs": [
        {
          "name": "stdout",
          "output_type": "stream",
          "text": [
            "Epoch 1/12\n",
            "\u001b[1m8/8\u001b[0m \u001b[32m━━━━━━━━━━━━━━━━━━━━\u001b[0m\u001b[37m\u001b[0m \u001b[1m5s\u001b[0m 429ms/step - accuracy: 0.0931 - loss: 2.5045 - val_accuracy: 0.0833 - val_loss: 2.4833\n",
            "Epoch 2/12\n",
            "\u001b[1m8/8\u001b[0m \u001b[32m━━━━━━━━━━━━━━━━━━━━\u001b[0m\u001b[37m\u001b[0m \u001b[1m5s\u001b[0m 371ms/step - accuracy: 0.1136 - loss: 2.4753 - val_accuracy: 0.0500 - val_loss: 2.4822\n",
            "Epoch 3/12\n",
            "\u001b[1m8/8\u001b[0m \u001b[32m━━━━━━━━━━━━━━━━━━━━\u001b[0m\u001b[37m\u001b[0m \u001b[1m4s\u001b[0m 253ms/step - accuracy: 0.0873 - loss: 2.4859 - val_accuracy: 0.0833 - val_loss: 2.4800\n",
            "Epoch 4/12\n",
            "\u001b[1m8/8\u001b[0m \u001b[32m━━━━━━━━━━━━━━━━━━━━\u001b[0m\u001b[37m\u001b[0m \u001b[1m6s\u001b[0m 402ms/step - accuracy: 0.0904 - loss: 2.4842 - val_accuracy: 0.1500 - val_loss: 2.4765\n",
            "Epoch 5/12\n",
            "\u001b[1m8/8\u001b[0m \u001b[32m━━━━━━━━━━━━━━━━━━━━\u001b[0m\u001b[37m\u001b[0m \u001b[1m4s\u001b[0m 240ms/step - accuracy: 0.1164 - loss: 2.4736 - val_accuracy: 0.1000 - val_loss: 2.4608\n",
            "Epoch 6/12\n",
            "\u001b[1m8/8\u001b[0m \u001b[32m━━━━━━━━━━━━━━━━━━━━\u001b[0m\u001b[37m\u001b[0m \u001b[1m5s\u001b[0m 257ms/step - accuracy: 0.0872 - loss: 2.4540 - val_accuracy: 0.1000 - val_loss: 2.4099\n",
            "Epoch 7/12\n",
            "\u001b[1m8/8\u001b[0m \u001b[32m━━━━━━━━━━━━━━━━━━━━\u001b[0m\u001b[37m\u001b[0m \u001b[1m4s\u001b[0m 287ms/step - accuracy: 0.1382 - loss: 2.4131 - val_accuracy: 0.2333 - val_loss: 2.3144\n",
            "Epoch 8/12\n",
            "\u001b[1m8/8\u001b[0m \u001b[32m━━━━━━━━━━━━━━━━━━━━\u001b[0m\u001b[37m\u001b[0m \u001b[1m4s\u001b[0m 286ms/step - accuracy: 0.1530 - loss: 2.3260 - val_accuracy: 0.1500 - val_loss: 2.2002\n",
            "Epoch 9/12\n",
            "\u001b[1m8/8\u001b[0m \u001b[32m━━━━━━━━━━━━━━━━━━━━\u001b[0m\u001b[37m\u001b[0m \u001b[1m4s\u001b[0m 246ms/step - accuracy: 0.1550 - loss: 2.2669 - val_accuracy: 0.2000 - val_loss: 2.1076\n",
            "Epoch 10/12\n",
            "\u001b[1m8/8\u001b[0m \u001b[32m━━━━━━━━━━━━━━━━━━━━\u001b[0m\u001b[37m\u001b[0m \u001b[1m3s\u001b[0m 243ms/step - accuracy: 0.2184 - loss: 2.1419 - val_accuracy: 0.2500 - val_loss: 1.9754\n",
            "Epoch 11/12\n",
            "\u001b[1m8/8\u001b[0m \u001b[32m━━━━━━━━━━━━━━━━━━━━\u001b[0m\u001b[37m\u001b[0m \u001b[1m4s\u001b[0m 397ms/step - accuracy: 0.2063 - loss: 2.0991 - val_accuracy: 0.2833 - val_loss: 1.8820\n",
            "Epoch 12/12\n",
            "\u001b[1m8/8\u001b[0m \u001b[32m━━━━━━━━━━━━━━━━━━━━\u001b[0m\u001b[37m\u001b[0m \u001b[1m4s\u001b[0m 253ms/step - accuracy: 0.2753 - loss: 2.0820 - val_accuracy: 0.2833 - val_loss: 1.9992\n"
          ]
        }
      ],
      "source": [
        "# Entraînement du modèle\n",
        "history = model.fit(\n",
        "    train_data,\n",
        "    epochs=12,  # Tu peux ajuster le nombre d'époques\n",
        "    validation_data=validation_data\n",
        ")\n"
      ]
    },
    {
      "cell_type": "markdown",
      "metadata": {
        "id": "AOCgu8FCbFyM"
      },
      "source": [
        "evaluation du model"
      ]
    },
    {
      "cell_type": "code",
      "execution_count": null,
      "metadata": {
        "colab": {
          "base_uri": "https://localhost:8080/"
        },
        "id": "3y03GAyebHei",
        "outputId": "5ad8eb77-a194-4f50-b2c7-3a34ae78fac1"
      },
      "outputs": [
        {
          "name": "stdout",
          "output_type": "stream",
          "text": [
            "\u001b[1m2/2\u001b[0m \u001b[32m━━━━━━━━━━━━━━━━━━━━\u001b[0m\u001b[37m\u001b[0m \u001b[1m0s\u001b[0m 152ms/step - accuracy: 0.3153 - loss: 1.9359\n",
            "Validation Loss: 1.9649256467819214, Validation Accuracy: 0.3166666626930237\n"
          ]
        }
      ],
      "source": [
        "# Évaluation sur les données de validation\n",
        "val_loss, val_acc = model.evaluate(validation_data)\n",
        "print(f\"Validation Loss: {val_loss}, Validation Accuracy: {val_acc}\")\n",
        "\n",
        "\n",
        "\n"
      ]
    },
    {
      "cell_type": "markdown",
      "metadata": {
        "id": "szWjYGHXibWg"
      },
      "source": [
        "sauvegarde du model"
      ]
    },
    {
      "cell_type": "code",
      "execution_count": null,
      "metadata": {
        "colab": {
          "base_uri": "https://localhost:8080/"
        },
        "id": "2ZoALR-qieft",
        "outputId": "17a1e38b-db59-4200-a01a-33bfd5c2abed"
      },
      "outputs": [
        {
          "name": "stderr",
          "output_type": "stream",
          "text": [
            "WARNING:absl:You are saving your model as an HDF5 file via `model.save()` or `keras.saving.save_model(model)`. This file format is considered legacy. We recommend using instead the native Keras format, e.g. `model.save('my_model.keras')` or `keras.saving.save_model(model, 'my_model.keras')`. \n"
          ]
        }
      ],
      "source": [
        "# Sauvegarder le modèle\n",
        "model.save('chess_piece_classifier_model.h5')\n"
      ]
    },
    {
      "cell_type": "markdown",
      "metadata": {
        "id": "iDknpFwBVdF2"
      },
      "source": [
        "# Picture taking"
      ]
    },
    {
      "cell_type": "code",
      "execution_count": null,
      "metadata": {
        "colab": {
          "base_uri": "https://localhost:8080/",
          "height": 35
        },
        "id": "3_FLdFfuVHMD",
        "outputId": "7c830844-c8e5-45a9-e5b9-080ce5503ded"
      },
      "outputs": [
        {
          "data": {
            "application/javascript": [
              "\n",
              "    async function takePhoto(quality) {\n",
              "      const div = document.createElement('div');\n",
              "      const capture = document.createElement('button');\n",
              "      capture.textContent = 'Capture';\n",
              "      div.appendChild(capture);\n",
              "\n",
              "      const video = document.createElement('video');\n",
              "      video.style.display = 'block';\n",
              "      const stream = await navigator.mediaDevices.getUserMedia({video: true});\n",
              "\n",
              "      document.body.appendChild(div);\n",
              "      div.appendChild(video);\n",
              "      video.srcObject = stream;\n",
              "      await video.play();\n",
              "\n",
              "      // Resize the output to a 640x480 image.\n",
              "      google.colab.output.setIframeHeight(document.documentElement.scrollHeight, true);\n",
              "\n",
              "      // Wait for the capture button to be clicked.\n",
              "      await new Promise((resolve) => capture.onclick = resolve);\n",
              "\n",
              "      const canvas = document.createElement('canvas');\n",
              "      canvas.width = 640;\n",
              "      canvas.height = 480;\n",
              "      canvas.getContext('2d').drawImage(video, 0, 0, canvas.width, canvas.height);\n",
              "      stream.getTracks()[0].stop();\n",
              "      div.remove();\n",
              "      return canvas.toDataURL('image/jpeg', quality);\n",
              "    }\n",
              "    "
            ],
            "text/plain": [
              "<IPython.core.display.Javascript object>"
            ]
          },
          "metadata": {},
          "output_type": "display_data"
        },
        {
          "name": "stdout",
          "output_type": "stream",
          "text": [
            "Photo saved as photo.jpg\n"
          ]
        }
      ],
      "source": [
        "# Utiliser JavaScript pour accéder à la caméra dans Colab\n",
        "from IPython.display import display, Javascript\n",
        "from google.colab.output import eval_js\n",
        "from base64 import b64decode\n",
        "import cv2\n",
        "import numpy as np\n",
        "import PIL\n",
        "from io import BytesIO\n",
        "\n",
        "# Fonction pour prendre une photo depuis la webcam\n",
        "def take_photo(filename='photo.jpg', quality=0.8):\n",
        "    js = Javascript('''\n",
        "    async function takePhoto(quality) {\n",
        "      const div = document.createElement('div');\n",
        "      const capture = document.createElement('button');\n",
        "      capture.textContent = 'Capture';\n",
        "      div.appendChild(capture);\n",
        "\n",
        "      const video = document.createElement('video');\n",
        "      video.style.display = 'block';\n",
        "      const stream = await navigator.mediaDevices.getUserMedia({video: true});\n",
        "\n",
        "      document.body.appendChild(div);\n",
        "      div.appendChild(video);\n",
        "      video.srcObject = stream;\n",
        "      await video.play();\n",
        "\n",
        "      // Resize the output to a 640x480 image.\n",
        "      google.colab.output.setIframeHeight(document.documentElement.scrollHeight, true);\n",
        "\n",
        "      // Wait for the capture button to be clicked.\n",
        "      await new Promise((resolve) => capture.onclick = resolve);\n",
        "\n",
        "      const canvas = document.createElement('canvas');\n",
        "      canvas.width = 640;\n",
        "      canvas.height = 480;\n",
        "      canvas.getContext('2d').drawImage(video, 0, 0, canvas.width, canvas.height);\n",
        "      stream.getTracks()[0].stop();\n",
        "      div.remove();\n",
        "      return canvas.toDataURL('image/jpeg', quality);\n",
        "    }\n",
        "    ''')\n",
        "    display(js)\n",
        "    data = eval_js('takePhoto({})'.format(quality))\n",
        "    binary = b64decode(data.split(',')[1])\n",
        "    with open(filename, 'wb') as f:\n",
        "        f.write(binary)\n",
        "    return filename\n",
        "\n",
        "# Prendre une photo\n",
        "filename = take_photo()\n",
        "print(f\"Photo saved as {filename}\")\n"
      ]
    },
    {
      "cell_type": "markdown",
      "metadata": {
        "id": "xc_Q-xjsV5LD"
      },
      "source": [
        "image treatment\n"
      ]
    },
    {
      "cell_type": "code",
      "execution_count": null,
      "metadata": {
        "colab": {
          "base_uri": "https://localhost:8080/",
          "height": 228
        },
        "id": "xyQ2MpnlV9Ak",
        "outputId": "d674dd76-9fca-4216-f264-830f86c651b5"
      },
      "outputs": [
        {
          "data": {
            "image/png": "[encoded data removed]",
            "text/plain": [
              "<Figure size 640x480 with 2 Axes>"
            ]
          },
          "metadata": {},
          "output_type": "display_data"
        }
      ],
      "source": [
        "# Charger l'image capturée avec OpenCV\n",
        "img = cv2.imread(filename)\n",
        "\n",
        "# Convertir en niveaux de gris pour traitement\n",
        "gray = cv2.cvtColor(img, cv2.COLOR_BGR2GRAY)\n",
        "\n",
        "# Appliquer un filtre de contours, par exemple\n",
        "edges = cv2.Canny(gray, 100, 200)\n",
        "\n",
        "# Afficher l'image originale et celle avec les contours\n",
        "from matplotlib import pyplot as plt\n",
        "\n",
        "plt.subplot(121), plt.imshow(cv2.cvtColor(img, cv2.COLOR_BGR2RGB))\n",
        "plt.title('Image Originale'), plt.xticks([]), plt.yticks([])\n",
        "\n",
        "plt.subplot(122), plt.imshow(edges, cmap='gray')\n",
        "plt.title('Contours'), plt.xticks([]), plt.yticks([])\n",
        "\n",
        "plt.show()\n"
      ]
    },
    {
      "cell_type": "markdown",
      "metadata": {
        "id": "-PoRrcIRclFL"
      },
      "source": []
    },
    {
      "cell_type": "markdown",
      "metadata": {
        "id": "_5AfKJ3Ecn1L"
      },
      "source": [
        "# Test"
      ]
    },
    {
      "cell_type": "markdown",
      "metadata": {
        "id": "pvPKHIwNc_uW"
      },
      "source": [
        "charger et traiter l'image"
      ]
    },
    {
      "cell_type": "code",
      "execution_count": null,
      "metadata": {
        "id": "PsOTHX-dcq8G"
      },
      "outputs": [],
      "source": [
        "# Charger l'image de test (modifie le chemin vers l'image que tu veux tester)\n",
        "img_path = '/content/photo.jpg'\n",
        "\n",
        "# Charger l'image avec la même taille utilisée pendant l'entraînement\n",
        "img = image.load_img(img_path, target_size=(64, 64))\n",
        "\n",
        "# Convertir l'image en tableau numpy\n",
        "img_array = image.img_to_array(img)\n",
        "\n",
        "# Ajouter une dimension pour correspondre au format attendu par le modèle (batch_size, height, width, channels)\n",
        "img_array = np.expand_dims(img_array, axis=0)\n",
        "\n",
        "# Normaliser l'image (si tu as normalisé les images d'entraînement)\n",
        "img_array = img_array / 255.0\n"
      ]
    },
    {
      "cell_type": "markdown",
      "metadata": {
        "id": "ZtYfZxTZc0RL"
      },
      "source": [
        "predire avec le model"
      ]
    },
    {
      "cell_type": "code",
      "execution_count": null,
      "metadata": {
        "colab": {
          "base_uri": "https://localhost:8080/"
        },
        "id": "XC7l_Rv8dJEz",
        "outputId": "f52dda5c-b633-4d76-eeea-6c72e6215b61"
      },
      "outputs": [
        {
          "name": "stdout",
          "output_type": "stream",
          "text": [
            "\u001b[1m1/1\u001b[0m \u001b[32m━━━━━━━━━━━━━━━━━━━━\u001b[0m\u001b[37m\u001b[0m \u001b[1m0s\u001b[0m 106ms/step\n",
            "Prédiction brute :  [[1.1371482e-01 2.6676795e-01 1.3218065e-05 2.7018398e-01 3.4932005e-01]]\n"
          ]
        }
      ],
      "source": [
        "# Faire la prédiction\n",
        "prediction = model.predict(img_array)\n",
        "\n",
        "# Afficher les prédictions\n",
        "print(\"Prédiction brute : \", prediction)\n"
      ]
    },
    {
      "cell_type": "markdown",
      "metadata": {
        "id": "pxQ-wezRdMP5"
      },
      "source": [
        "interpretation de la prédiction"
      ]
    },
    {
      "cell_type": "code",
      "execution_count": null,
      "metadata": {
        "colab": {
          "base_uri": "https://localhost:8080/"
        },
        "id": "QtezrUuzc4Nl",
        "outputId": "006d422d-bba8-4bce-92f5-3a526b263655"
      },
      "outputs": [
        {
          "name": "stdout",
          "output_type": "stream",
          "text": [
            "L'image est prédite comme étant : pawn_resized\n"
          ]
        }
      ],
      "source": [
        "# Trouver l'index de la classe prédite\n",
        "predicted_class_index = np.argmax(prediction)\n",
        "\n",
        "# Afficher la classe prédite\n",
        "class_names = list(train_data.class_indices.keys())  # Obtenir les noms des classes\n",
        "print(f\"L'image est prédite comme étant : {class_names[predicted_class_index]}\")\n"
      ]
    },
    {
      "cell_type": "markdown",
      "metadata": {
        "id": "PwFdOwaCdR5I"
      },
      "source": [
        "visualisation de la prédiction"
      ]
    },
    {
      "cell_type": "code",
      "execution_count": null,
      "metadata": {
        "colab": {
          "base_uri": "https://localhost:8080/",
          "height": 453
        },
        "id": "ZvSk_5FXdcoQ",
        "outputId": "b8acdcc2-ae56-4b33-86c0-a02fc7135361"
      },
      "outputs": [
        {
          "data": {
            "image/png": "[encoded data removed]",
            "text/plain": [
              "<Figure size 640x480 with 1 Axes>"
            ]
          },
          "metadata": {},
          "output_type": "display_data"
        }
      ],
      "source": [
        "import matplotlib.pyplot as plt\n",
        "\n",
        "# Afficher l'image\n",
        "plt.imshow(image.load_img(img_path, target_size=(64, 64)))\n",
        "plt.title(f\"Prédiction: {class_names[predicted_class_index]}\")\n",
        "plt.show()\n"
      ]
    },
    {
      "cell_type": "code",
      "execution_count": null,
      "metadata": {
        "colab": {
          "base_uri": "https://localhost:8080/",
          "height": 441
        },
        "id": "ACJI4MmTeIXI",
        "outputId": "bb890180-4d7b-4eb7-be18-78b5ec9a52ae"
      },
      "outputs": [
        {
          "data": {
            "image/png": "[encoded data removed]",
            "text/plain": [
              "<Figure size 640x480 with 1 Axes>"
            ]
          },
          "metadata": {},
          "output_type": "display_data"
        }
      ],
      "source": [
        "import matplotlib.pyplot as plt\n",
        "import matplotlib.patches as patches\n",
        "\n",
        "\n",
        "# Charger l'image\n",
        "img_path = '/content/photo.jpg'\n",
        "img = image.load_img(img_path, target_size=(64, 64))\n",
        "\n",
        "# Convertir en tableau numpy pour affichage\n",
        "img_array = image.img_to_array(img) / 255.0\n",
        "\n",
        "# Définir les coordonnées du carré (ici un exemple fictif)\n",
        "x, y, width, height = 15, 10, 30, 30  # À modifier avec tes coordonnées\n",
        "\n",
        "# Créer une figure et un axe\n",
        "fig, ax = plt.subplots()\n",
        "\n",
        "# Afficher l'image\n",
        "ax.imshow(img_array)\n",
        "\n",
        "# Ajouter un carré autour de la pièce prédite\n",
        "rect = patches.Rectangle((x, y), width, height, linewidth=2, edgecolor='r', facecolor='none')\n",
        "ax.add_patch(rect)\n",
        "\n",
        "# Ajouter le nom de la pièce prédite\n",
        "predicted_class = \"Rook\"  # Remplace par le nom prédit\n",
        "plt.text(x, y - 10, predicted_class, color='red', fontsize=12, fontweight='bold')\n",
        "\n",
        "# Afficher l'image\n",
        "plt.show()\n"
      ]
    },
    {
      "cell_type": "code",
      "execution_count": null,
      "metadata": {
        "colab": {
          "base_uri": "https://localhost:8080/",
          "height": 162
        },
        "id": "8PZDJMGZepwT",
        "outputId": "f2af44a4-e3f4-430e-93d9-9bb1521fdc10"
      },
      "outputs": [
        {
          "ename": "NameError",
          "evalue": "name 'model' is not defined",
          "output_type": "error",
          "traceback": [
            "\u001b[0;31m---------------------------------------------------------------------------\u001b[0m",
            "\u001b[0;31mNameError\u001b[0m                                 Traceback (most recent call last)",
            "\u001b[0;32m<ipython-input-4-7172202975df>\u001b[0m in \u001b[0;36m<cell line: 2>\u001b[0;34m()\u001b[0m\n\u001b[1;32m      1\u001b[0m \u001b[0;31m# Sauvegarder le modèle\u001b[0m\u001b[0;34m\u001b[0m\u001b[0;34m\u001b[0m\u001b[0m\n\u001b[0;32m----> 2\u001b[0;31m \u001b[0mmodel\u001b[0m\u001b[0;34m.\u001b[0m\u001b[0msave\u001b[0m\u001b[0;34m(\u001b[0m\u001b[0;34m'chess_piece_classifier_model.h5'\u001b[0m\u001b[0;34m)\u001b[0m\u001b[0;34m\u001b[0m\u001b[0;34m\u001b[0m\u001b[0m\n\u001b[0m",
            "\u001b[0;31mNameError\u001b[0m: name 'model' is not defined"
          ]
        }
      ],
      "source": [
        "# Sauvegarder le modèle\n",
        "model.save('chess_piece_classifier_model.h5')\n"
      ]
    },
    {
      "cell_type": "code",
      "execution_count": null,
      "metadata": {
        "colab": {
          "base_uri": "https://localhost:8080/"
        },
        "id": "WkK4rD4teg1A",
        "outputId": "5f03a7eb-b399-4b0d-f98f-c7d3ff978537"
      },
      "outputs": [
        {
          "name": "stderr",
          "output_type": "stream",
          "text": [
            "WARNING:absl:Compiled the loaded model, but the compiled metrics have yet to be built. `model.compile_metrics` will be empty until you train or evaluate the model.\n"
          ]
        },
        {
          "name": "stdout",
          "output_type": "stream",
          "text": [
            "Erreur : Impossible d'ouvrir la caméra.\n"
          ]
        }
      ],
      "source": [
        "import cv2\n",
        "import numpy as np\n",
        "\n",
        "\n",
        "# Charger ton modèle entraîné\n",
        "model = tf.keras.models.load_model('chess_piece_classifier_model.h5')\n",
        "\n",
        "# Charger les noms des classes (associées aux indices de classe)\n",
        "class_names = [\"Queen\", \"Rook\", \"Bishop\", \"Knight\", \"Pawn\"]  # Adapte cette liste à ton modèle\n",
        "\n",
        "cap = cv2.VideoCapture(0)\n",
        "\n",
        "if not cap.isOpened():\n",
        "    print(\"Erreur : Impossible d'ouvrir la caméra.\")\n",
        "    exit()\n",
        "\n",
        "while True:\n",
        "    # Lire une frame de la vidéo\n",
        "    ret, frame = cap.read()\n",
        "\n",
        "    if not ret:\n",
        "        break\n",
        "\n",
        "    # Prétraiter l'image (comme pendant l'entraînement)\n",
        "    img_resized = cv2.resize(frame, (64, 64))  # Redimensionner à 64x64\n",
        "    img_array = image.img_to_array(img_resized) / 255.0  # Normaliser\n",
        "    img_array = np.expand_dims(img_array, axis=0)  # Ajouter une dimension pour batch\n",
        "\n",
        "    # Faire la prédiction\n",
        "    prediction = model.predict(img_array)\n",
        "    predicted_class_index = np.argmax(prediction)\n",
        "    predicted_class = class_names[predicted_class_index]\n",
        "\n",
        "    # Afficher la prédiction sur la vidéo\n",
        "    cv2.putText(frame, f\"Predicted: {predicted_class}\", (10, 30), cv2.FONT_HERSHEY_SIMPLEX, 1, (0, 255, 0), 2)\n",
        "\n",
        "    # Optionnel : Dessiner un rectangle autour d'une région spécifique (ajuste les coordonnées)\n",
        "    # cv2.rectangle(frame, (50, 50), (200, 200), (255, 0, 0), 2)\n",
        "\n",
        "    # Afficher la vidéo en temps réel\n",
        "    cv2.imshow('Chess Piece Detection', frame)\n",
        "\n",
        "    # Quitter si la touche 'q' est pressée\n",
        "    if cv2.waitKey(1) & 0xFF == ord('q'):\n",
        "        break\n",
        "\n",
        "# Libérer la caméra et fermer les fenêtres\n",
        "cap.release()\n",
        "cv2.destroyAllWindows()\n"
      ]
    },
    {
      "cell_type": "code",
      "execution_count": null,
      "metadata": {
        "colab": {
          "base_uri": "https://localhost:8080/",
          "height": 126
        },
        "id": "_gn1Rl2vkYIV",
        "outputId": "bfc6fb8b-eb43-471b-f645-138ac2c7d56c"
      },
      "outputs": [
        {
          "name": "stderr",
          "output_type": "stream",
          "text": [
            "WARNING:absl:Compiled the loaded model, but the compiled metrics have yet to be built. `model.compile_metrics` will be empty until you train or evaluate the model.\n"
          ]
        },
        {
          "data": {
            "application/javascript": [
              "\n",
              "    async function takePhoto(quality) {\n",
              "      const div = document.createElement('div');\n",
              "      const capture = document.createElement('button');\n",
              "      capture.textContent = 'Capture';\n",
              "      div.appendChild(capture);\n",
              "\n",
              "      const video = document.createElement('video');\n",
              "      video.style.display = 'block';\n",
              "      const stream = await navigator.mediaDevices.getUserMedia({video: true});\n",
              "\n",
              "      document.body.appendChild(div);\n",
              "      div.appendChild(video);\n",
              "      video.srcObject = stream;\n",
              "      await video.play();\n",
              "\n",
              "      // Resize the output to a 640x480 image.\n",
              "      google.colab.output.setIframeHeight(document.documentElement.scrollHeight, true);\n",
              "\n",
              "      // Wait for the capture button to be clicked.\n",
              "      await new Promise((resolve) => capture.onclick = resolve);\n",
              "\n",
              "      const canvas = document.createElement('canvas');\n",
              "      canvas.width = 640;\n",
              "      canvas.height = 480;\n",
              "      canvas.getContext('2d').drawImage(video, 0, 0, canvas.width, canvas.height);\n",
              "      stream.getTracks()[0].stop();\n",
              "      div.remove();\n",
              "      return canvas.toDataURL('image/jpeg', quality);\n",
              "    }\n",
              "    "
            ],
            "text/plain": [
              "<IPython.core.display.Javascript object>"
            ]
          },
          "metadata": {},
          "output_type": "display_data"
        },
        {
          "name": "stdout",
          "output_type": "stream",
          "text": [
            "Photo saved as photo.jpg\n"
          ]
        },
        {
          "name": "stderr",
          "output_type": "stream",
          "text": [
            "WARNING:tensorflow:5 out of the last 5 calls to <function TensorFlowTrainer.make_predict_function.<locals>.one_step_on_data_distributed at 0x78d46158edd0> triggered tf.function retracing. Tracing is expensive and the excessive number of tracings could be due to (1) creating @tf.function repeatedly in a loop, (2) passing tensors with different shapes, (3) passing Python objects instead of tensors. For (1), please define your @tf.function outside of the loop. For (2), @tf.function has reduce_retracing=True option that can avoid unnecessary retracing. For (3), please refer to https://www.tensorflow.org/guide/function#controlling_retracing and https://www.tensorflow.org/api_docs/python/tf/function for  more details.\n"
          ]
        },
        {
          "name": "stdout",
          "output_type": "stream",
          "text": [
            "\u001b[1m1/1\u001b[0m \u001b[32m━━━━━━━━━━━━━━━━━━━━\u001b[0m\u001b[37m\u001b[0m \u001b[1m0s\u001b[0m 183ms/step\n",
            "La pièce prédite est : Knight\n"
          ]
        }
      ],
      "source": [
        "# Importer les bibliothèques nécessaires\n",
        "import cv2\n",
        "import numpy as np\n",
        "from tensorflow.keras.preprocessing import image\n",
        "import tensorflow as tf\n",
        "from IPython.display import display, Javascript\n",
        "from google.colab.output import eval_js\n",
        "from base64 import b64decode\n",
        "\n",
        "# Charger ton modèle de classification\n",
        "model = tf.keras.models.load_model('chess_piece_classifier_model.h5')\n",
        "\n",
        "# Charger les noms des classes\n",
        "class_names = [\"Queen\", \"Rook\", \"Bishop\", \"Knight\", \"Pawn\"]  # Adapte cette liste à ton modèle\n",
        "\n",
        "# Fonction pour prendre une photo depuis la webcam\n",
        "def take_photo(filename='photo.jpg', quality=0.8):\n",
        "    js = Javascript('''\n",
        "    async function takePhoto(quality) {\n",
        "      const div = document.createElement('div');\n",
        "      const capture = document.createElement('button');\n",
        "      capture.textContent = 'Capture';\n",
        "      div.appendChild(capture);\n",
        "\n",
        "      const video = document.createElement('video');\n",
        "      video.style.display = 'block';\n",
        "      const stream = await navigator.mediaDevices.getUserMedia({video: true});\n",
        "\n",
        "      document.body.appendChild(div);\n",
        "      div.appendChild(video);\n",
        "      video.srcObject = stream;\n",
        "      await video.play();\n",
        "\n",
        "      // Resize the output to a 640x480 image.\n",
        "      google.colab.output.setIframeHeight(document.documentElement.scrollHeight, true);\n",
        "\n",
        "      // Wait for the capture button to be clicked.\n",
        "      await new Promise((resolve) => capture.onclick = resolve);\n",
        "\n",
        "      const canvas = document.createElement('canvas');\n",
        "      canvas.width = 640;\n",
        "      canvas.height = 480;\n",
        "      canvas.getContext('2d').drawImage(video, 0, 0, canvas.width, canvas.height);\n",
        "      stream.getTracks()[0].stop();\n",
        "      div.remove();\n",
        "      return canvas.toDataURL('image/jpeg', quality);\n",
        "    }\n",
        "    ''')\n",
        "    display(js)\n",
        "    data = eval_js('takePhoto({})'.format(quality))\n",
        "    binary = b64decode(data.split(',')[1])\n",
        "    with open(filename, 'wb') as f:\n",
        "        f.write(binary)\n",
        "    return filename\n",
        "\n",
        "# Prendre une photo\n",
        "filename = take_photo()\n",
        "print(f\"Photo saved as {filename}\")\n",
        "\n",
        "# Charger et traiter l'image pour la prédiction\n",
        "img = cv2.imread(filename)\n",
        "img_resized = cv2.resize(img, (64, 64))  # Redimensionner\n",
        "img_array = image.img_to_array(img_resized) / 255.0  # Normaliser\n",
        "img_array = np.expand_dims(img_array, axis=0)  # Ajouter une dimension pour le batch\n",
        "\n",
        "# Faire la prédiction\n",
        "prediction = model.predict(img_array)\n",
        "predicted_class_index = np.argmax(prediction)\n",
        "predicted_class = class_names[predicted_class_index]\n",
        "\n",
        "# Afficher la prédiction\n",
        "print(f\"La pièce prédite est : {predicted_class}\")\n"
      ]
    }
  ],
  "metadata": {
    "accelerator": "TPU",
    "colab": {
      "gpuType": "V28",
      "provenance": [],
      "authorship_tag": "ABX9TyOlkeA+BRGTGQPceb0d9sdc",
      "include_colab_link": true
    },
    "kernelspec": {
      "display_name": "Python 3",
      "name": "python3"
    },
    "language_info": {
      "name": "python"
    }
  },
  "nbformat": 4,
  "nbformat_minor": 0
}