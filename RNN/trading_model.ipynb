{
  "cells": [
    {
      "cell_type": "markdown",
      "metadata": {
        "id": "view-in-github",
        "colab_type": "text"
      },
      "source": [
        "<a href=\"https://colab.research.google.com/github/stephaneNiyonizigiye/ML-AI_models/blob/main/trading_model.ipynb\" target=\"_parent\"><img src=\"https://colab.research.google.com/assets/colab-badge.svg\" alt=\"Open In Colab\"/></a>"
      ]
    },
    {
      "cell_type": "markdown",
      "source": [
        "\n",
        "Stephane Niyonizigiye 300242927<br/>\n"
      ],
      "metadata": {
        "id": "mwcRGcBL7x4Q"
      }
    },
    {
      "cell_type": "markdown",
      "metadata": {
        "id": "ouzHIcKAbEcp"
      },
      "source": [
        "# LSTM model - RNN"
      ]
    },
    {
      "cell_type": "markdown",
      "metadata": {
        "id": "PF9oCgdthVda"
      },
      "source": [
        "**version 2**"
      ]
    },
    {
      "cell_type": "code",
      "execution_count": null,
      "metadata": {
        "id": "C_5-f7orNwyq"
      },
      "outputs": [],
      "source": [
        "import numpy as np\n",
        "import pandas as pd\n",
        "import yfinance as yf\n",
        "from sklearn.preprocessing import MinMaxScaler,RobustScaler\n",
        "from sklearn.model_selection import train_test_split\n",
        "from tensorflow.keras.models import Sequential, load_model\n",
        "from tensorflow.keras.layers import LSTM, Dense, Input\n",
        "from tensorflow.keras.callbacks import EarlyStopping\n",
        "import matplotlib.pyplot as plt\n",
        "from sklearn.pipeline import Pipeline\n"
      ]
    },
    {
      "cell_type": "markdown",
      "source": [
        "Data fetch and model trainning"
      ],
      "metadata": {
        "id": "8f_OtmlGgsg0"
      }
    },
    {
      "cell_type": "markdown",
      "source": [
        "    Data fetch"
      ],
      "metadata": {
        "id": "yBF3pgLbnvty"
      }
    },
    {
      "cell_type": "code",
      "source": [
        "# Fonction pour récupérer les données boursières\n",
        "def fetch_stock_data(symbol, start_date, end_date):\n",
        "    print(f\"Fetching data for {symbol} from {start_date} to {end_date}...\")\n",
        "    data = yf.download(symbol, start=start_date, end=end_date)\n",
        "    if data.isna().sum().sum() > 0:\n",
        "        data.dropna(inplace=True)\n",
        "    print(data.head())\n",
        "    return data"
      ],
      "metadata": {
        "id": "I9Nt0FYYnyL0"
      },
      "execution_count": null,
      "outputs": []
    },
    {
      "cell_type": "markdown",
      "source": [
        "    Adding Technical indicator to the data\n",
        "\n",
        "\n"
      ],
      "metadata": {
        "id": "5qEes4N-oSEe"
      }
    },
    {
      "cell_type": "code",
      "source": [
        "# Fonction pour ajouter des indicateurs techniques\n",
        "def add_technical_indicators(data):\n",
        "    data['SMA_20'] = data['Close'].rolling(window=20).mean()\n",
        "    data['RSI'] = 100 - (100 / (1 + (data['Close'].diff(1).clip(lower=0).rolling(window=14).mean() /\n",
        "                                     (-data['Close'].diff(1).clip(upper=0).rolling(window=14).mean()))))\n",
        "    data.bfill(inplace=True)\n",
        "    return data\n"
      ],
      "metadata": {
        "id": "9C8OmbzhoZX9"
      },
      "execution_count": null,
      "outputs": []
    },
    {
      "cell_type": "markdown",
      "source": [
        "    Data preparation"
      ],
      "metadata": {
        "id": "s8pnmXBIo_5C"
      }
    },
    {
      "cell_type": "code",
      "source": [
        "# Fonction pour préparer les données pour LSTM\n",
        "def prepare_data(data, window_size=50):\n",
        "    features = data[['Close', 'SMA_20', 'RSI']].values\n",
        "    scaler = MinMaxScaler()\n",
        "    features_scaled = scaler.fit_transform(features)\n",
        "\n",
        "    X, y = [], []\n",
        "\n",
        "    for i in range(window_size, len(features_scaled)):\n",
        "        X.append(features_scaled[i-window_size:i])\n",
        "        y.append(features_scaled[i, 0])  # La colonne \"Close\" est la cible\n",
        "\n",
        "    X, y = np.array(X), np.array(y)\n",
        "    return X, y, scaler"
      ],
      "metadata": {
        "id": "_h5HQWYno_QJ"
      },
      "execution_count": null,
      "outputs": []
    },
    {
      "cell_type": "markdown",
      "source": [
        "    Building LSTM model\n",
        "    "
      ],
      "metadata": {
        "id": "s2l9x8VbpwRJ"
      }
    },
    {
      "cell_type": "code",
      "source": [
        "# Fonction pour construire le modèle de base\n",
        "def build_base_model(input_shape):\n",
        "    model = Sequential([\n",
        "        Input(shape=input_shape),\n",
        "        LSTM(units=100, return_sequences=True),\n",
        "        LSTM(units=50, return_sequences=False),\n",
        "        Dense(units=1)\n",
        "    ])\n",
        "    model.compile(optimizer='adam', loss='mean_squared_error')\n",
        "    return model\n"
      ],
      "metadata": {
        "id": "gnU--sBQqIoO"
      },
      "execution_count": null,
      "outputs": []
    },
    {
      "cell_type": "markdown",
      "source": [
        "    model trainning and saving"
      ],
      "metadata": {
        "id": "UoRPyubXqMqD"
      }
    },
    {
      "cell_type": "code",
      "execution_count": null,
      "metadata": {
        "colab": {
          "base_uri": "https://localhost:8080/"
        },
        "id": "ejNRTg2nhVCz",
        "outputId": "e0fb7efc-08ad-402b-ad78-e3e1d5d6e93a"
      },
      "outputs": [
        {
          "output_type": "stream",
          "name": "stderr",
          "text": [
            "[*********************100%***********************]  1 of 1 completed\n",
            "[*********************100%***********************]  1 of 1 completed"
          ]
        },
        {
          "output_type": "stream",
          "name": "stdout",
          "text": [
            "\n",
            "\n",
            " Processing AAPL...\n",
            "\n",
            "Fetching data for AAPL from 2020-01-01 to 2022-12-31...\n",
            "Price           Close       High        Low       Open     Volume\n",
            "Ticker           AAPL       AAPL       AAPL       AAPL       AAPL\n",
            "Date                                                             \n",
            "2020-01-02  72.716072  72.776598  71.466812  71.721019  135480400\n",
            "2020-01-03  72.009117  72.771745  71.783962  71.941328  146322800\n",
            "2020-01-06  72.582901  72.621639  70.876068  71.127858  118387200\n",
            "2020-01-07  72.241547  72.849224  72.021231  72.592594  108872000\n",
            "2020-01-08  73.403641  73.706271  71.943751  71.943751  132079200\n",
            "\n",
            "\n",
            " Processing MSFT...\n",
            "\n",
            "Fetching data for MSFT from 2020-01-01 to 2022-12-31...\n",
            "Price            Close        High         Low        Open    Volume\n",
            "Ticker            MSFT        MSFT        MSFT        MSFT      MSFT\n",
            "Date                                                                \n",
            "2020-01-02  153.323257  153.428261  151.137295  151.566850  22622100\n",
            "2020-01-03  151.414154  152.683736  150.879596  151.127794  21116200\n",
            "2020-01-06  151.805496  151.872323  149.399972  149.944085  20813700\n",
            "2020-01-07  150.421341  152.416391  150.173158  152.082300  21634100\n",
            "2020-01-08  152.817337  153.495089  150.774555  151.710031  27746500\n"
          ]
        },
        {
          "output_type": "stream",
          "name": "stderr",
          "text": [
            "\n",
            "\r[*********************100%***********************]  1 of 1 completed\n"
          ]
        },
        {
          "output_type": "stream",
          "name": "stdout",
          "text": [
            "\n",
            "\n",
            " Processing TSLA...\n",
            "\n",
            "Fetching data for TSLA from 2020-01-01 to 2022-12-31...\n",
            "Price           Close       High        Low       Open     Volume\n",
            "Ticker           TSLA       TSLA       TSLA       TSLA       TSLA\n",
            "Date                                                             \n",
            "2020-01-02  28.684000  28.713333  28.114000  28.299999  142981500\n",
            "2020-01-03  29.534000  30.266666  29.128000  29.366667  266677500\n",
            "2020-01-06  30.102667  30.104000  29.333332  29.364668  151995000\n",
            "2020-01-07  31.270666  31.441999  30.224001  30.760000  268231500\n",
            "2020-01-08  32.809334  33.232666  31.215334  31.580000  467164500\n",
            "Epoch 1/50\n",
            "\u001b[1m53/53\u001b[0m \u001b[32m━━━━━━━━━━━━━━━━━━━━\u001b[0m\u001b[37m\u001b[0m \u001b[1m8s\u001b[0m 69ms/step - loss: 0.0372 - val_loss: 0.0030\n",
            "Epoch 2/50\n",
            "\u001b[1m53/53\u001b[0m \u001b[32m━━━━━━━━━━━━━━━━━━━━\u001b[0m\u001b[37m\u001b[0m \u001b[1m6s\u001b[0m 90ms/step - loss: 0.0030 - val_loss: 0.0020\n",
            "Epoch 3/50\n",
            "\u001b[1m53/53\u001b[0m \u001b[32m━━━━━━━━━━━━━━━━━━━━\u001b[0m\u001b[37m\u001b[0m \u001b[1m4s\u001b[0m 62ms/step - loss: 0.0020 - val_loss: 0.0019\n",
            "Epoch 4/50\n",
            "\u001b[1m53/53\u001b[0m \u001b[32m━━━━━━━━━━━━━━━━━━━━\u001b[0m\u001b[37m\u001b[0m \u001b[1m5s\u001b[0m 63ms/step - loss: 0.0020 - val_loss: 0.0018\n",
            "Epoch 5/50\n",
            "\u001b[1m53/53\u001b[0m \u001b[32m━━━━━━━━━━━━━━━━━━━━\u001b[0m\u001b[37m\u001b[0m \u001b[1m5s\u001b[0m 86ms/step - loss: 0.0019 - val_loss: 0.0020\n",
            "Epoch 6/50\n",
            "\u001b[1m53/53\u001b[0m \u001b[32m━━━━━━━━━━━━━━━━━━━━\u001b[0m\u001b[37m\u001b[0m \u001b[1m4s\u001b[0m 62ms/step - loss: 0.0019 - val_loss: 0.0014\n",
            "Epoch 7/50\n",
            "\u001b[1m53/53\u001b[0m \u001b[32m━━━━━━━━━━━━━━━━━━━━\u001b[0m\u001b[37m\u001b[0m \u001b[1m3s\u001b[0m 62ms/step - loss: 0.0015 - val_loss: 0.0015\n",
            "Epoch 8/50\n",
            "\u001b[1m53/53\u001b[0m \u001b[32m━━━━━━━━━━━━━━━━━━━━\u001b[0m\u001b[37m\u001b[0m \u001b[1m6s\u001b[0m 86ms/step - loss: 0.0015 - val_loss: 0.0012\n",
            "Epoch 9/50\n",
            "\u001b[1m53/53\u001b[0m \u001b[32m━━━━━━━━━━━━━━━━━━━━\u001b[0m\u001b[37m\u001b[0m \u001b[1m4s\u001b[0m 71ms/step - loss: 0.0014 - val_loss: 0.0017\n",
            "Epoch 10/50\n",
            "\u001b[1m53/53\u001b[0m \u001b[32m━━━━━━━━━━━━━━━━━━━━\u001b[0m\u001b[37m\u001b[0m \u001b[1m4s\u001b[0m 66ms/step - loss: 0.0014 - val_loss: 0.0012\n",
            "Epoch 11/50\n",
            "\u001b[1m53/53\u001b[0m \u001b[32m━━━━━━━━━━━━━━━━━━━━\u001b[0m\u001b[37m\u001b[0m \u001b[1m6s\u001b[0m 84ms/step - loss: 0.0013 - val_loss: 0.0012\n",
            "Epoch 12/50\n",
            "\u001b[1m53/53\u001b[0m \u001b[32m━━━━━━━━━━━━━━━━━━━━\u001b[0m\u001b[37m\u001b[0m \u001b[1m4s\u001b[0m 68ms/step - loss: 0.0012 - val_loss: 9.9240e-04\n",
            "Epoch 13/50\n",
            "\u001b[1m53/53\u001b[0m \u001b[32m━━━━━━━━━━━━━━━━━━━━\u001b[0m\u001b[37m\u001b[0m \u001b[1m3s\u001b[0m 62ms/step - loss: 0.0012 - val_loss: 0.0012\n",
            "Epoch 14/50\n",
            "\u001b[1m53/53\u001b[0m \u001b[32m━━━━━━━━━━━━━━━━━━━━\u001b[0m\u001b[37m\u001b[0m \u001b[1m3s\u001b[0m 62ms/step - loss: 0.0012 - val_loss: 8.2573e-04\n",
            "Epoch 15/50\n",
            "\u001b[1m53/53\u001b[0m \u001b[32m━━━━━━━━━━━━━━━━━━━━\u001b[0m\u001b[37m\u001b[0m \u001b[1m5s\u001b[0m 96ms/step - loss: 0.0011 - val_loss: 9.5737e-04\n",
            "Epoch 16/50\n",
            "\u001b[1m53/53\u001b[0m \u001b[32m━━━━━━━━━━━━━━━━━━━━\u001b[0m\u001b[37m\u001b[0m \u001b[1m3s\u001b[0m 61ms/step - loss: 9.3595e-04 - val_loss: 0.0016\n",
            "Epoch 17/50\n",
            "\u001b[1m53/53\u001b[0m \u001b[32m━━━━━━━━━━━━━━━━━━━━\u001b[0m\u001b[37m\u001b[0m \u001b[1m5s\u001b[0m 62ms/step - loss: 0.0012 - val_loss: 7.6485e-04\n",
            "Epoch 18/50\n",
            "\u001b[1m53/53\u001b[0m \u001b[32m━━━━━━━━━━━━━━━━━━━━\u001b[0m\u001b[37m\u001b[0m \u001b[1m5s\u001b[0m 86ms/step - loss: 8.0925e-04 - val_loss: 7.2177e-04\n",
            "Epoch 19/50\n",
            "\u001b[1m53/53\u001b[0m \u001b[32m━━━━━━━━━━━━━━━━━━━━\u001b[0m\u001b[37m\u001b[0m \u001b[1m4s\u001b[0m 61ms/step - loss: 8.7392e-04 - val_loss: 0.0014\n",
            "Epoch 20/50\n",
            "\u001b[1m53/53\u001b[0m \u001b[32m━━━━━━━━━━━━━━━━━━━━\u001b[0m\u001b[37m\u001b[0m \u001b[1m3s\u001b[0m 60ms/step - loss: 9.8779e-04 - val_loss: 6.9922e-04\n",
            "Epoch 21/50\n",
            "\u001b[1m53/53\u001b[0m \u001b[32m━━━━━━━━━━━━━━━━━━━━\u001b[0m\u001b[37m\u001b[0m \u001b[1m6s\u001b[0m 79ms/step - loss: 8.4677e-04 - val_loss: 7.3847e-04\n",
            "Epoch 22/50\n",
            "\u001b[1m53/53\u001b[0m \u001b[32m━━━━━━━━━━━━━━━━━━━━\u001b[0m\u001b[37m\u001b[0m \u001b[1m4s\u001b[0m 62ms/step - loss: 7.8841e-04 - val_loss: 6.6641e-04\n",
            "Epoch 23/50\n",
            "\u001b[1m53/53\u001b[0m \u001b[32m━━━━━━━━━━━━━━━━━━━━\u001b[0m\u001b[37m\u001b[0m \u001b[1m3s\u001b[0m 61ms/step - loss: 8.2336e-04 - val_loss: 9.7022e-04\n",
            "Epoch 24/50\n",
            "\u001b[1m53/53\u001b[0m \u001b[32m━━━━━━━━━━━━━━━━━━━━\u001b[0m\u001b[37m\u001b[0m \u001b[1m3s\u001b[0m 63ms/step - loss: 8.4979e-04 - val_loss: 6.9280e-04\n",
            "Epoch 25/50\n",
            "\u001b[1m53/53\u001b[0m \u001b[32m━━━━━━━━━━━━━━━━━━━━\u001b[0m\u001b[37m\u001b[0m \u001b[1m5s\u001b[0m 91ms/step - loss: 7.5155e-04 - val_loss: 7.1295e-04\n",
            "Epoch 26/50\n",
            "\u001b[1m53/53\u001b[0m \u001b[32m━━━━━━━━━━━━━━━━━━━━\u001b[0m\u001b[37m\u001b[0m \u001b[1m4s\u001b[0m 61ms/step - loss: 9.4531e-04 - val_loss: 8.0239e-04\n",
            "Epoch 27/50\n",
            "\u001b[1m53/53\u001b[0m \u001b[32m━━━━━━━━━━━━━━━━━━━━\u001b[0m\u001b[37m\u001b[0m \u001b[1m5s\u001b[0m 61ms/step - loss: 8.0040e-04 - val_loss: 0.0012\n",
            "\n",
            "\n",
            " Base model saved as 'base_model2.keras'.\n"
          ]
        }
      ],
      "source": [
        "\n",
        "# Fonction pour entraîner et sauvegarder le modèle de base\n",
        "def train_base_model(symbols, start_date, end_date, window_size=50):\n",
        "    all_data = []\n",
        "    for symbol in symbols:\n",
        "        print(f\"\\n\\n Processing {symbol}...\\n\")\n",
        "        data = fetch_stock_data(symbol, start_date, end_date)\n",
        "\n",
        "        data = add_technical_indicators(data)\n",
        "        X, y, _ = prepare_data(data, window_size)\n",
        "        all_data.append((X, y))\n",
        "    # Combiner toutes les données\n",
        "    X_all = np.concatenate([d[0] for d in all_data], axis=0)\n",
        "    y_all = np.concatenate([d[1] for d in all_data], axis=0)\n",
        "\n",
        "    # Diviser les données\n",
        "    X_train, X_val, y_train, y_val = train_test_split(X_all, y_all, test_size=0.2, random_state=42)\n",
        "\n",
        "    # Construire et entraîner le modèle\n",
        "    model = build_base_model(input_shape=(X_train.shape[1], X_train.shape[2]))\n",
        "    early_stopping = EarlyStopping(monitor='val_loss', patience=5, restore_best_weights=True)\n",
        "    model.fit(X_train, y_train, validation_data=(X_val, y_val), epochs=50, batch_size=32, callbacks=[early_stopping])\n",
        "\n",
        "    # Sauvegarder le modèle\n",
        "    model.save(\"/content/drive/MyDrive/AI models/base_model2.keras\")\n",
        "    print(\"\\n\\n Base model saved as 'base_model2.keras'.\")\n",
        "    return model\n",
        "\n",
        "\n",
        "# Étape principale\n",
        "if __name__ == \"__main__\":\n",
        "    # Entraîner le modèle de base\n",
        "    symbols = [\"AAPL\", \"MSFT\", \"TSLA\"]\n",
        "    train_base_model(symbols, start_date=\"2020-01-01\", end_date=\"2022-12-31\")"
      ]
    },
    {
      "cell_type": "markdown",
      "metadata": {
        "id": "xd_iHk7V6unV"
      },
      "source": [
        "Fine tunning process\n"
      ]
    },
    {
      "cell_type": "code",
      "source": [
        "!pip install backtrader"
      ],
      "metadata": {
        "id": "snnIg4DZySfv",
        "colab": {
          "base_uri": "https://localhost:8080/"
        },
        "outputId": "bca3ff25-1ea7-4ad3-b767-3797bbf1c8cf"
      },
      "execution_count": null,
      "outputs": [
        {
          "output_type": "stream",
          "name": "stdout",
          "text": [
            "Collecting backtrader\n",
            "  Downloading backtrader-1.9.78.123-py2.py3-none-any.whl.metadata (6.8 kB)\n",
            "Downloading backtrader-1.9.78.123-py2.py3-none-any.whl (419 kB)\n",
            "\u001b[?25l   \u001b[90m━━━━━━━━━━━━━━━━━━━━━━━━━━━━━━━━━━━━━━━━\u001b[0m \u001b[32m0.0/419.5 kB\u001b[0m \u001b[31m?\u001b[0m eta \u001b[36m-:--:--\u001b[0m\r\u001b[2K   \u001b[91m━━━━━━━━━━━━━━━━━━━━━━━━━━━━━━━━\u001b[0m\u001b[90m╺\u001b[0m\u001b[90m━━━━━━━\u001b[0m \u001b[32m337.9/419.5 kB\u001b[0m \u001b[31m10.0 MB/s\u001b[0m eta \u001b[36m0:00:01\u001b[0m\r\u001b[2K   \u001b[90m━━━━━━━━━━━━━━━━━━━━━━━━━━━━━━━━━━━━━━━━\u001b[0m \u001b[32m419.5/419.5 kB\u001b[0m \u001b[31m8.6 MB/s\u001b[0m eta \u001b[36m0:00:00\u001b[0m\n",
            "\u001b[?25hInstalling collected packages: backtrader\n",
            "Successfully installed backtrader-1.9.78.123\n"
          ]
        }
      ]
    },
    {
      "cell_type": "code",
      "execution_count": null,
      "metadata": {
        "colab": {
          "base_uri": "https://localhost:8080/",
          "height": 1000
        },
        "id": "ia0WNRbL64ag",
        "outputId": "68b93ccd-6a1e-4949-e816-7b644d2126bb"
      },
      "outputs": [
        {
          "output_type": "stream",
          "name": "stdout",
          "text": [
            "Fetching data for AAPL from 2023-01-01 to 2024-12-31...\n",
            "YF.download() has changed argument auto_adjust default to True\n"
          ]
        },
        {
          "output_type": "stream",
          "name": "stderr",
          "text": [
            "\r[*********************100%***********************]  1 of 1 completed\n"
          ]
        },
        {
          "output_type": "stream",
          "name": "stdout",
          "text": [
            "Price            Close        High         Low        Open     Volume\n",
            "Ticker            AAPL        AAPL        AAPL        AAPL       AAPL\n",
            "Date                                                                 \n",
            "2023-01-03  123.632523  129.395510  122.742865  128.782641  112117500\n",
            "2023-01-04  124.907700  127.181268  123.642412  125.431607   89113600\n",
            "2023-01-05  123.583092  126.301485  123.326085  125.668841   80962700\n",
            "2023-01-06  128.130219  128.792516  123.454587  124.561717   87754700\n",
            "2023-01-09  128.654114  131.876655  128.397108  128.970443   70790800\n",
            "Epoch 1/10\n",
            "\u001b[1m10/10\u001b[0m \u001b[32m━━━━━━━━━━━━━━━━━━━━\u001b[0m\u001b[37m\u001b[0m \u001b[1m6s\u001b[0m 118ms/step - loss: 0.0024 - val_loss: 0.0021\n",
            "Epoch 2/10\n",
            "\u001b[1m10/10\u001b[0m \u001b[32m━━━━━━━━━━━━━━━━━━━━\u001b[0m\u001b[37m\u001b[0m \u001b[1m0s\u001b[0m 22ms/step - loss: 0.0010 - val_loss: 0.0014\n",
            "Epoch 3/10\n",
            "\u001b[1m10/10\u001b[0m \u001b[32m━━━━━━━━━━━━━━━━━━━━\u001b[0m\u001b[37m\u001b[0m \u001b[1m0s\u001b[0m 25ms/step - loss: 7.2190e-04 - val_loss: 3.9688e-04\n",
            "Epoch 4/10\n",
            "\u001b[1m10/10\u001b[0m \u001b[32m━━━━━━━━━━━━━━━━━━━━\u001b[0m\u001b[37m\u001b[0m \u001b[1m0s\u001b[0m 31ms/step - loss: 4.6822e-04 - val_loss: 3.0314e-04\n",
            "Epoch 5/10\n",
            "\u001b[1m10/10\u001b[0m \u001b[32m━━━━━━━━━━━━━━━━━━━━\u001b[0m\u001b[37m\u001b[0m \u001b[1m1s\u001b[0m 31ms/step - loss: 4.7553e-04 - val_loss: 3.9240e-04\n",
            "Epoch 6/10\n",
            "\u001b[1m10/10\u001b[0m \u001b[32m━━━━━━━━━━━━━━━━━━━━\u001b[0m\u001b[37m\u001b[0m \u001b[1m0s\u001b[0m 27ms/step - loss: 3.8977e-04 - val_loss: 3.8523e-04\n",
            "Epoch 7/10\n",
            "\u001b[1m10/10\u001b[0m \u001b[32m━━━━━━━━━━━━━━━━━━━━\u001b[0m\u001b[37m\u001b[0m \u001b[1m0s\u001b[0m 42ms/step - loss: 4.0924e-04 - val_loss: 3.0725e-04\n",
            "\u001b[1m3/3\u001b[0m \u001b[32m━━━━━━━━━━━━━━━━━━━━\u001b[0m\u001b[37m\u001b[0m \u001b[1m0s\u001b[0m 27ms/step - loss: 6.2756e-04\n",
            "Fine-tuned Test Loss for AAPL: 0.0006403617444448173\n",
            "\u001b[1m3/3\u001b[0m \u001b[32m━━━━━━━━━━━━━━━━━━━━\u001b[0m\u001b[37m\u001b[0m \u001b[1m1s\u001b[0m 185ms/step\n",
            "Sharpe Ratio: -0.0329\n",
            "Sortino Ratio: -0.0642\n",
            "Max Drawdown: -0.3752\n",
            "Annualized Return: 10.5173\n"
          ]
        },
        {
          "output_type": "display_data",
          "data": {
            "text/plain": [
              "<Figure size 1200x600 with 1 Axes>"
            ],
            "image/png": "[encoded data removed]"
          },
          "metadata": {}
        }
      ],
      "source": [
        "import numpy as np\n",
        "import matplotlib.pyplot as plt\n",
        "from sklearn.preprocessing import MinMaxScaler\n",
        "from tensorflow.keras.models import load_model\n",
        "from tensorflow.keras.callbacks import EarlyStopping\n",
        "import yfinance as yf\n",
        "from sklearn.model_selection import train_test_split\n",
        "\n",
        "def calculate_sharpe_ratio(returns, risk_free_rate=0.02):\n",
        "    excess_returns = returns - risk_free_rate\n",
        "    return np.mean(excess_returns) / np.std(excess_returns)\n",
        "\n",
        "def calculate_sortino_ratio(returns, risk_free_rate=0.02):\n",
        "    downside_returns = returns[returns < risk_free_rate]\n",
        "    downside_std = np.std(downside_returns) if len(downside_returns) > 0 else 1e-6\n",
        "    return np.mean(returns - risk_free_rate) / downside_std\n",
        "\n",
        "def calculate_max_drawdown(prices):\n",
        "    peak = np.maximum.accumulate(prices)\n",
        "    drawdown = (prices - peak) / peak\n",
        "    return np.min(drawdown)\n",
        "\n",
        "def calculate_annualized_return(total_return, n_years):\n",
        "    return (1 + total_return) ** (1 / n_years) - 1\n",
        "\n",
        "def fine_tune_model(model_path, symbol, start_date, end_date, window_size=50):\n",
        "    data = fetch_stock_data(symbol, start_date, end_date)\n",
        "    data = add_technical_indicators(data)\n",
        "    X, y, scaler = prepare_data(data, window_size)\n",
        "\n",
        "    X_train, X_temp, y_train, y_temp = train_test_split(X, y, test_size=0.3, random_state=42)\n",
        "    X_val, X_test, y_val, y_test = train_test_split(X_temp, y_temp, test_size=0.5, random_state=42)\n",
        "\n",
        "    model = load_model(model_path)\n",
        "    model.compile(optimizer='adam', loss='mean_squared_error')\n",
        "    early_stopping = EarlyStopping(monitor='val_loss', patience=3, restore_best_weights=True)\n",
        "    model.fit(X_train, y_train, validation_data=(X_val, y_val), epochs=10, batch_size=32, callbacks=[early_stopping])\n",
        "\n",
        "    test_loss = model.evaluate(X_test, y_test)\n",
        "    print(f\"Fine-tuned Test Loss for {symbol}: {test_loss}\")\n",
        "\n",
        "    predictions = model.predict(X_test)\n",
        "    predictions = scaler.inverse_transform(np.hstack((predictions, np.zeros((predictions.shape[0], 2)))))[:, 0]\n",
        "    y_test = scaler.inverse_transform(np.hstack((y_test.reshape(-1, 1), np.zeros((y_test.shape[0], 2)))))[:, 0]\n",
        "\n",
        "    returns = np.diff(predictions) / predictions[:-1]\n",
        "    sharpe = calculate_sharpe_ratio(returns)\n",
        "    sortino = calculate_sortino_ratio(returns)\n",
        "    max_drawdown = calculate_max_drawdown(predictions)\n",
        "    annual_return = calculate_annualized_return(np.sum(returns), n_years=(len(y_test) / 252))\n",
        "\n",
        "    print(f\"Sharpe Ratio: {sharpe:.4f}\")\n",
        "    print(f\"Sortino Ratio: {sortino:.4f}\")\n",
        "    print(f\"Max Drawdown: {max_drawdown:.4f}\")\n",
        "    print(f\"Annualized Return: {annual_return:.4f}\")\n",
        "\n",
        "    plt.figure(figsize=(12, 6))\n",
        "    plt.plot(y_test, label='Real Prices', color='blue')\n",
        "    plt.plot(predictions, label='Predicted Prices', color='orange')\n",
        "    plt.xlabel('Time Steps')\n",
        "    plt.ylabel('Price')\n",
        "    plt.legend()\n",
        "    plt.title(f'Real vs Predicted Prices for {symbol}')\n",
        "    plt.show()\n",
        "\n",
        "if __name__ == \"__main__\":\n",
        "    fine_tune_model(\"/content/drive/MyDrive/AI models/base_model2.keras\", symbol=\"AAPL\", start_date=\"2023-01-01\", end_date=\"2024-12-31\")\n"
      ]
    },
    {
      "cell_type": "markdown",
      "metadata": {
        "id": "9H5PaIKEbE_z"
      },
      "source": [
        "# Real Time"
      ]
    },
    {
      "cell_type": "markdown",
      "metadata": {
        "id": "YJ66igC2mhqA"
      },
      "source": [
        "**Real time**"
      ]
    },
    {
      "cell_type": "code",
      "execution_count": null,
      "metadata": {
        "id": "PwaCddBUSvsw"
      },
      "outputs": [],
      "source": [
        "#This part of Code is an extra to the project ... I didn't include it in the project description"
      ]
    },
    {
      "cell_type": "code",
      "execution_count": null,
      "metadata": {
        "id": "fUcDtIS4AYp0"
      },
      "outputs": [],
      "source": [
        "!pip install alpaca-trade-api"
      ]
    },
    {
      "cell_type": "markdown",
      "metadata": {
        "id": "x6CZE8RcQ81A"
      },
      "source": [
        "Potential trading bot"
      ]
    },
    {
      "cell_type": "code",
      "execution_count": null,
      "metadata": {
        "id": "TfROkh0KmqOi"
      },
      "outputs": [],
      "source": [
        "import time\n",
        "import numpy as np\n",
        "import pandas as pd\n",
        "from sklearn.preprocessing import MinMaxScaler\n",
        "from tensorflow.keras.models import load_model\n",
        "from alpaca_trade_api.rest import REST, TimeFrame\n",
        "from google.colab import userdata\n",
        "\n",
        "\n",
        "# Configuration de l'API Alpaca\n",
        "API_KEY = userdata.get('APCA-API-KEY-ID')\n",
        "API_SECRET = userdata.get('APCA-API-SECRET-KEY')\n",
        "BASE_URL = 'https://paper-api.alpaca.markets'  # Mode paper trading\n",
        "\n",
        "# Initialisation de l'API\n",
        "api = REST(API_KEY, API_SECRET, BASE_URL, api_version='v2')\n",
        "\n",
        "# Charger le modèle fine-tuné\n",
        "model = load_model(\"/content/drive/MyDrive/AI models/base_model2.h5\")\n",
        "model.compile(optimizer='adam', loss='mean_squared_error')  # Recompiler le modèle\n",
        "\n",
        "\n",
        "# Fonction pour récupérer les données en temps réel\n",
        "def fetch_live_data(symbol, lookback=50):\n",
        "    try:\n",
        "        # Récupérer un plus grand nombre de données si nécessaire\n",
        "        bars = api.get_bars(symbol, TimeFrame.Minute, limit=lookback + 60)  # +10 pour compenser les données manquantes\n",
        "        data = pd.DataFrame([{\n",
        "            \"timestamp\": bar.t,\n",
        "            \"open\": bar.o,\n",
        "            \"high\": bar.h,\n",
        "            \"low\": bar.l,\n",
        "            \"close\": bar.c,\n",
        "            \"volume\": bar.v,\n",
        "        } for bar in bars])\n",
        "\n",
        "        # Calcul des indicateurs techniques\n",
        "        data['SMA_20'] = data['close'].rolling(window=20).mean()\n",
        "        data['RSI'] = 100 - (100 / (1 + (data['close'].diff(1).clip(lower=0).rolling(window=14).mean() /\n",
        "                                         (-data['close'].diff(1).clip(upper=0).rolling(window=14).mean()))))\n",
        "        data.dropna(inplace=True)\n",
        "\n",
        "        # Vérifier si suffisamment de données existent pour une prédiction\n",
        "        if len(data) < lookback:\n",
        "            print(\"Pas assez de données après traitement des indicateurs.\")\n",
        "            return None\n",
        "\n",
        "        return data\n",
        "    except Exception as e:\n",
        "        print(f\"Erreur lors de la récupération des données : {e}\")\n",
        "        return None\n",
        "\n",
        "# Normalisation et prédictions\n",
        "def predict_next_price(data, model):\n",
        "    scaler = MinMaxScaler()\n",
        "    features = data[['close', 'SMA_20', 'RSI']].values\n",
        "    features_scaled = scaler.fit_transform(features)\n",
        "    X_input = np.array([features_scaled[-50:]])  # Fenêtre glissante\n",
        "    prediction = model.predict(X_input)\n",
        "    predicted_price = scaler.inverse_transform([[prediction[0][0], 0, 0]])[0][0]\n",
        "    return predicted_price\n",
        "\n",
        "# Exécuter un ordre de trading\n",
        "def execute_trade(symbol, action, qty):\n",
        " url = \"https://paper-api.alpaca.markets/v2/orders\"\n",
        "\n",
        " payload = {\n",
        "      \"side\": \"buy\",\n",
        "      \"type\": \"market\",\n",
        "      \"time_in_force\": \"day\"\n",
        "  }\n",
        " headers = {\n",
        "      \"accept\": \"application/json\",\n",
        "      \"content-type\": \"application/json\",\n",
        "      \"APCA-API-KEY-ID\": \"PKB2O8EKNHHUSKD9G89L\",\n",
        "      \"APCA-API-SECRET-KEY\": \"nzg8bbUcpdXSlY7zx4FlOeA7iFcz0T5TeftEmcGa\"\n",
        "  }\n",
        " response = requests.post(url, json=payload, headers=headers)\n",
        "\n",
        "# Stratégie de trading avec stop-loss et take-profit\n",
        "def trading_strategy(symbol, model, qty=1, stop_loss=0.02, take_profit=0.05):\n",
        "    print(f\"Starting trading for {symbol} with Stop-Loss: {stop_loss*100}%, Take-Profit: {take_profit*100}%...\")\n",
        "    position_price = None\n",
        "    while True:\n",
        "        try:\n",
        "            # Récupérer les données en temps réel\n",
        "            data = fetch_live_data(symbol)\n",
        "            if data is None or len(data) < 50:\n",
        "                print(\"Pas assez de données pour une prédiction.\")\n",
        "                time.sleep(60)\n",
        "                continue\n",
        "\n",
        "            # Faire une prédiction\n",
        "            predicted_price = predict_next_price(data, model)\n",
        "            current_price = data['close'].iloc[-1]\n",
        "\n",
        "            print(f\"Prix actuel : {current_price}, Prix prédit : {predicted_price}\")\n",
        "\n",
        "            # Gestion des règles de stop-loss et take-profit\n",
        "            if position_price:\n",
        "                if current_price <= position_price * (1 - stop_loss):\n",
        "                    print(\"Stop-Loss atteint. Vendre la position.\")\n",
        "                    execute_trade(symbol, \"sell\", qty)\n",
        "                    position_price = None\n",
        "                    continue\n",
        "\n",
        "                if current_price >= position_price * (1 + take_profit):\n",
        "                    print(\"Take-Profit atteint. Vendre la position.\")\n",
        "                    execute_trade(symbol, \"sell\", qty)\n",
        "                    position_price = None\n",
        "                    continue\n",
        "\n",
        "            # Générer un signal d'achat\n",
        "            if predicted_price > current_price * 1.01 and position_price is None:\n",
        "                print(\"Signal : ACHAT\")\n",
        "                execute_trade(symbol, \"buy\", qty)\n",
        "                position_price = current_price\n",
        "\n",
        "            time.sleep(60)\n",
        "\n",
        "        except Exception as e:\n",
        "            print(f\"Erreur : {e}\")\n",
        "            time.sleep(60)\n",
        "\n",
        "\n",
        "# Lancer la stratégie\n",
        "if __name__ == \"__main__\":\n",
        "    symbol = \"NVDA\"  # Symbole à trader\n",
        "\n",
        "\n",
        "    #tradding strategy\n",
        "    trading_strategy(symbol, model, qty=1, stop_loss=0.02, take_profit=0.05)\n"
      ]
    },
    {
      "cell_type": "markdown",
      "metadata": {
        "id": "tbzeNGKORCfR"
      },
      "source": [
        "Trading request through the API"
      ]
    },
    {
      "cell_type": "code",
      "execution_count": null,
      "metadata": {
        "colab": {
          "base_uri": "https://localhost:8080/"
        },
        "id": "af6j4f0B166T",
        "outputId": "6ec922b0-4c1e-4cb8-ecf7-78083294f008"
      },
      "outputs": [
        {
          "name": "stdout",
          "output_type": "stream",
          "text": [
            "200\n",
            "{'id': 'bbba23da-9694-4c6d-ac36-ac8b7b6a0248', 'client_order_id': 'd877025f-493e-4c22-91b9-3dbf5fd3dcb4', 'created_at': '2024-12-24T15:31:35.374777985Z', 'updated_at': '2024-12-24T15:31:35.375454615Z', 'submitted_at': '2024-12-24T15:31:35.374777985Z', 'filled_at': None, 'expired_at': None, 'canceled_at': None, 'failed_at': None, 'replaced_at': None, 'replaced_by': None, 'replaces': None, 'asset_id': 'b0b6dd9d-8b9b-48a9-ba46-b9d54906e415', 'symbol': 'AAPL', 'asset_class': 'us_equity', 'notional': None, 'qty': '1', 'filled_qty': '0', 'filled_avg_price': None, 'order_class': '', 'order_type': 'market', 'type': 'market', 'side': 'buy', 'position_intent': 'buy_to_open', 'time_in_force': 'day', 'limit_price': None, 'stop_price': None, 'status': 'pending_new', 'extended_hours': False, 'legs': None, 'trail_percent': None, 'trail_price': None, 'hwm': None, 'subtag': None, 'source': None, 'expires_at': '2024-12-24T18:00:00Z'}\n"
          ]
        }
      ],
      "source": [
        "import requests\n",
        "\n",
        "\n",
        "\n",
        "# URL de l'API Paper Trading\n",
        "url = \"https://paper-api.alpaca.markets/v2/orders\"\n",
        "\n",
        "# Détails de l'ordre\n",
        "payload = {\n",
        "    \"symbol\": \"AAPL\",  # Symbole de l'action\n",
        "    \"qty\": 1,          # Quantité à acheter\n",
        "    \"side\": \"buy\",      # Côté (achat ou vente)\n",
        "    \"type\": \"market\",   # Type d'ordre (market, limit, etc.)\n",
        "    \"time_in_force\": \"day\"  # Validité de l'ordre\n",
        "}\n",
        "\n",
        "# En-têtes avec clés API\n",
        "headers = {\n",
        "    \"accept\": \"application/json\",\n",
        "    \"content-type\": \"application/json\",\n",
        "    \"APCA-API-KEY-ID\": API_KEY,\n",
        "    \"APCA-API-SECRET-KEY\": API_SECRET\n",
        "}\n",
        "\n",
        "# Envoyer la requête POST pour passer l'ordre\n",
        "response = requests.post(url, json=payload, headers=headers)\n",
        "\n",
        "# Afficher la réponse\n",
        "print(response.status_code)\n",
        "print(response.json())\n"
      ]
    },
    {
      "cell_type": "code",
      "source": [],
      "metadata": {
        "id": "RnQErdduA7b1"
      },
      "execution_count": null,
      "outputs": []
    }
  ],
  "metadata": {
    "colab": {
      "provenance": [],
      "mount_file_id": "1EVX-ja4bQgb85XKrtYIIuHbAwIjbuxDB",
      "authorship_tag": "ABX9TyOPJm+n0+lR82tlJ7W60LdK",
      "include_colab_link": true
    },
    "kernelspec": {
      "display_name": "Python 3",
      "name": "python3"
    },
    "language_info": {
      "name": "python"
    }
  },
  "nbformat": 4,
  "nbformat_minor": 0
}